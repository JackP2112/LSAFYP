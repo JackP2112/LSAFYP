{
 "cells": [
  {
   "cell_type": "code",
   "execution_count": 1,
   "id": "expired-switzerland",
   "metadata": {},
   "outputs": [],
   "source": [
    "#!wget https://sagemaker-lsa-texts.s3.amazonaws.com/goldilocks.txt"
   ]
  },
  {
   "cell_type": "code",
   "execution_count": 2,
   "id": "charged-skiing",
   "metadata": {},
   "outputs": [],
   "source": [
    "#!wget https://sagemaker-lsa-texts.s3.amazonaws.com/littleredridinghood.txt"
   ]
  },
  {
   "cell_type": "code",
   "execution_count": 3,
   "id": "weighted-belize",
   "metadata": {},
   "outputs": [],
   "source": [
    "red = open(\"littleredridinghood.txt\").read().splitlines()\n",
    "gold = open(\"goldilocks.txt\").read().splitlines()"
   ]
  },
  {
   "cell_type": "code",
   "execution_count": 4,
   "id": "satisfied-devon",
   "metadata": {},
   "outputs": [],
   "source": [
    "# create body data frame\n",
    "import pandas as pd\n",
    "\n",
    "red_df = pd.DataFrame({\"title\": \"LittleRedRidingHood\", \"sentence\": red})\n",
    "gold_df = pd.DataFrame({\"title\": \"Goldilocks\", \"sentence\": gold})\n",
    "\n",
    "body_df = pd.concat([red_df, gold_df], ignore_index=True)"
   ]
  },
  {
   "cell_type": "code",
   "execution_count": 5,
   "id": "designing-stanford",
   "metadata": {},
   "outputs": [],
   "source": [
    "# create document-term matrix\n",
    "from sklearn.feature_extraction.text import TfidfVectorizer\n",
    "\n",
    "vectoriser = TfidfVectorizer(min_df=1, stop_words=\"english\")\n",
    "bag_of_words = vectoriser.fit_transform(body_df.sentence)"
   ]
  },
  {
   "cell_type": "code",
   "execution_count": 6,
   "id": "applicable-consumption",
   "metadata": {},
   "outputs": [],
   "source": [
    "# perform singular value decomposition\n",
    "from sklearn.decomposition import TruncatedSVD\n",
    "\n",
    "svd = TruncatedSVD(n_components=2)\n",
    "lsa = svd.fit_transform(bag_of_words)"
   ]
  },
  {
   "cell_type": "code",
   "execution_count": 7,
   "id": "polar-edition",
   "metadata": {},
   "outputs": [],
   "source": [
    "# topic encoded data\n",
    "topic_encoded_df = pd.DataFrame(lsa, columns = [\"topic_1\", \"topic_2\"])\n",
    "topic_encoded_df[\"sentence\"] = body_df.sentence\n",
    "topic_encoded_df[\"isRedRidingHood\"] = (body_df.title == \"LittleRedRidingHood\")\n",
    "\n",
    "# dictionary\n",
    "dictionary = vectoriser.get_feature_names()\n",
    "\n",
    "# encoding matrix\n",
    "encoding_matrix = pd.DataFrame(svd.components_, index=[\"topic_1\", \"topic_2\"]).T\n",
    "encoding_matrix[\"terms\"] = dictionary"
   ]
  },
  {
   "cell_type": "code",
   "execution_count": 8,
   "id": "musical-details",
   "metadata": {},
   "outputs": [
    {
     "name": "stdout",
     "output_type": "stream",
     "text": [
      "      topic_1   topic_2        terms  abs_topic_1  abs_topic_2\n",
      "139  0.387834 -0.127140         hood     0.387834     0.127140\n",
      "230  0.387834 -0.127140       riding     0.387834     0.127140\n",
      "222  0.387834 -0.127140          red     0.387834     0.127140\n",
      "164  0.337502 -0.118031       little     0.337502     0.118031\n",
      "122  0.261320  0.018160  grandmother     0.261320     0.018160\n",
      "..        ...       ...          ...          ...          ...\n",
      "152  0.002321  0.023776      kitchen     0.002321     0.023776\n",
      "226  0.001785 -0.001955        reply     0.001785     0.001955\n",
      "11   0.000686  0.003662        apron     0.000686     0.003662\n",
      "142  0.000447 -0.002126          hug     0.000447     0.002126\n",
      "74   0.000003 -0.000158    delighted     0.000003     0.000158\n",
      "\n",
      "[340 rows x 5 columns]\n",
      "      topic_1   topic_2      terms  abs_topic_1  abs_topic_2\n",
      "209  0.059090  0.403608   porridge     0.059090     0.403608\n",
      "18   0.069769  0.399201       bear     0.069769     0.399201\n",
      "51   0.045373  0.278152      chair     0.045373     0.278152\n",
      "238  0.240399  0.237252       said     0.240399     0.237252\n",
      "21   0.098633  0.233020        bed     0.098633     0.233020\n",
      "..        ...       ...        ...          ...          ...\n",
      "195  0.005900 -0.000183     opened     0.005900     0.000183\n",
      "277  0.005900 -0.000183     stairs     0.005900     0.000183\n",
      "74   0.000003 -0.000158  delighted     0.000003     0.000158\n",
      "144  0.022983 -0.000123   huntsman     0.022983     0.000123\n",
      "108  0.011701  0.000018     forest     0.011701     0.000018\n",
      "\n",
      "[340 rows x 5 columns]\n"
     ]
    }
   ],
   "source": [
    "# interpret encoding matrix\n",
    "import numpy as np\n",
    "\n",
    "encoding_matrix[\"abs_topic_1\"] = np.abs(encoding_matrix[\"topic_1\"])\n",
    "encoding_matrix[\"abs_topic_2\"] = np.abs(encoding_matrix[\"topic_2\"])\n",
    "\n",
    "print(encoding_matrix.sort_values(\"abs_topic_1\", ascending=False))\n",
    "print(encoding_matrix.sort_values(\"abs_topic_2\", ascending=False))"
   ]
  },
  {
   "cell_type": "code",
   "execution_count": 9,
   "id": "descending-grade",
   "metadata": {},
   "outputs": [
    {
     "data": {
      "image/png": "[encoded data removed]",
      "text/plain": [
       "<Figure size 432x288 with 1 Axes>"
      ]
     },
     "metadata": {
      "needs_background": "light"
     },
     "output_type": "display_data"
    }
   ],
   "source": [
    "# plot topic encoded data\n",
    "import matplotlib.pyplot as plt\n",
    "\n",
    "fig, ax = plt.subplots()\n",
    "\n",
    "for val in topic_encoded_df.isRedRidingHood.unique():\n",
    "    topic_1 = topic_encoded_df[topic_encoded_df.isRedRidingHood == val][\"topic_1\"].values\n",
    "    topic_2 = topic_encoded_df[topic_encoded_df.isRedRidingHood == val][\"topic_2\"].values\n",
    "    colour = \"red\" if val else \"green\"\n",
    "    label = \"LittleRedRidingHood\" if val else \"Goldilocks\"\n",
    "    ax.scatter(topic_1, topic_2, c=colour, alpha=0.3, label=label)\n",
    "\n",
    "ax.set_xlabel(\"First Topic\")\n",
    "ax.set_ylabel(\"Second Topic\")\n",
    "ax.axvline(linewidth=0.5)\n",
    "ax.axhline(linewidth=0.5)\n",
    "ax.legend()\n",
    "\n",
    "fig.show()"
   ]
  },
  {
   "cell_type": "code",
   "execution_count": null,
   "id": "behavioral-magic",
   "metadata": {},
   "outputs": [],
   "source": []
  }
 ],
 "metadata": {
  "kernelspec": {
   "display_name": "conda_python3",
   "language": "python",
   "name": "conda_python3"
  },
  "language_info": {
   "codemirror_mode": {
    "name": "ipython",
    "version": 3
   },
   "file_extension": ".py",
   "mimetype": "text/x-python",
   "name": "python",
   "nbconvert_exporter": "python",
   "pygments_lexer": "ipython3",
   "version": "3.6.10"
  }
 },
 "nbformat": 4,
 "nbformat_minor": 5
}
